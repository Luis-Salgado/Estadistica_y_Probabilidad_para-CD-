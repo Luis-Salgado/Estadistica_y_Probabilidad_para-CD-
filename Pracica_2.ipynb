{
  "nbformat": 4,
  "nbformat_minor": 0,
  "metadata": {
    "colab": {
      "provenance": [],
      "authorship_tag": "ABX9TyPK7CGEdM4U5CHGMO2NrDpZ",
      "include_colab_link": true
    },
    "kernelspec": {
      "name": "python3",
      "display_name": "Python 3"
    },
    "language_info": {
      "name": "python"
    }
  },
  "cells": [
    {
      "cell_type": "markdown",
      "metadata": {
        "id": "view-in-github",
        "colab_type": "text"
      },
      "source": [
        "<a href=\"https://colab.research.google.com/github/Luis-Salgado/Estadistica_y_Probabilidad_para-CD-/blob/main/Pracica_2.ipynb\" target=\"_parent\"><img src=\"https://colab.research.google.com/assets/colab-badge.svg\" alt=\"Open In Colab\"/></a>"
      ]
    },
    {
      "cell_type": "markdown",
      "source": [
        "1. Desarrolle un programa en Python que genere una arreglo NumPy tridimensional de tama˜ no 5×4×3 con\n",
        " valores aleatorios entre 0 y 100. Posteriormente el programa debe encontrar el elemento m´as peque˜no\n",
        " y el m´as grande e indicar la ubicaci´ on de dichos elementos dentro del arreglo. Imprima la matriz, los\n",
        " valores menor y mayor, as´ ıcomo sus ubicaciones. Guarde su programa en un archivo con extensi´on .py."
      ],
      "metadata": {
        "id": "_2osaidnrto5"
      }
    },
    {
      "cell_type": "code",
      "source": [
        "import numpy as np\n",
        "\n",
        "# Crear un array tridimensional de ejemplo con números aleatorios entre 0 y 100\n",
        "array_3d_random = np.random.randint(0, 101, (5, 4, 3))\n",
        "\n",
        "# Encontrar el valor más pequeño\n",
        "valor_minimo = np.min(array_3d_random)\n",
        "\n",
        "# Encontrar el valor más grande\n",
        "valor_maximo = np.max(array_3d_random)\n",
        "\n",
        "# Encontrar las ubicaciones de esos valores\n",
        "indice_minimo = np.argmin(array_3d_random)\n",
        "indice_maximo = np.argmax(array_3d_random)\n",
        "ubicacion_minimo = tuple(int(i) for i in np.unravel_index(indice_minimo, array_3d_random.shape))\n",
        "ubicacion_maximo = tuple(int(i) for i in np.unravel_index(indice_maximo, array_3d_random.shape))\n",
        "\n",
        "print(\"Array:\")\n",
        "print(array_3d_random)\n",
        "print(f\"El valor más pequeño es {valor_minimo}, ubicado en la posición {ubicacion_minimo}\")\n",
        "print(f\"El valor más grande es {valor_maximo}, ubicado en la posición {ubicacion_maximo}\")"
      ],
      "metadata": {
        "colab": {
          "base_uri": "https://localhost:8080/"
        },
        "id": "DF74yXEB2Kms",
        "outputId": "7a082873-a1e2-49de-d07c-ce593762baa5"
      },
      "execution_count": null,
      "outputs": [
        {
          "output_type": "stream",
          "name": "stdout",
          "text": [
            "Array:\n",
            "[[[76 13  7]\n",
            "  [86 24 97]\n",
            "  [97 82 36]\n",
            "  [95  1 84]]\n",
            "\n",
            " [[35  2 57]\n",
            "  [98 74 82]\n",
            "  [85  6 91]\n",
            "  [62 59 41]]\n",
            "\n",
            " [[93 98 92]\n",
            "  [69  9 53]\n",
            "  [98  3 54]\n",
            "  [48 22 97]]\n",
            "\n",
            " [[63 30 41]\n",
            "  [21 44 42]\n",
            "  [30 15 21]\n",
            "  [11 87 30]]\n",
            "\n",
            " [[13 15 84]\n",
            "  [96 92 59]\n",
            "  [57  2 88]\n",
            "  [49 50 42]]]\n",
            "El valor más pequeño es 1, ubicado en la posición (0, 3, 1)\n",
            "El valor más grande es 98, ubicado en la posición (1, 1, 0)\n"
          ]
        }
      ]
    },
    {
      "cell_type": "markdown",
      "source": [
        "2. Dada la matriz tridimensional H:\n",
        " H = 1 2 3\n",
        " 4 5 6 , 7 8 9\n",
        " 10 11 12\n",
        " Calcula la transpuesta de cada ”plano”1 dentro de la matriz tridimensional H. Guarde su programa en\n",
        " un archivo con extensi´on .py."
      ],
      "metadata": {
        "id": "DBADUqjw6pJE"
      }
    },
    {
      "cell_type": "code",
      "source": [
        "\n",
        "import numpy as np\n",
        "\n",
        "# Definir la matriz tridimensional H\n",
        "H = np.array([[[1, 2, 3], [4, 5, 6]], [[7, 8, 9], [10, 11, 12]]])\n",
        "\n",
        "# Definir la matriz transpuesta HT\n",
        "HT=np.transpose(H, (0, 2, 1))\n",
        "\n",
        "#Imprimir resultados\n",
        "print(f\"la matriz original H es:\\n{H}\")\n",
        "print('')\n",
        "print(f\"la matriz transpuesta HT es:\\n{HT}\")\n",
        "\n"
      ],
      "metadata": {
        "colab": {
          "base_uri": "https://localhost:8080/"
        },
        "id": "WCDPRxnc6rUS",
        "outputId": "e552704a-87f4-4440-ac87-80d9f17ae2a6"
      },
      "execution_count": null,
      "outputs": [
        {
          "output_type": "stream",
          "name": "stdout",
          "text": [
            "la matriz original H es:\n",
            "[[[ 1  2  3]\n",
            "  [ 4  5  6]]\n",
            "\n",
            " [[ 7  8  9]\n",
            "  [10 11 12]]]\n",
            "\n",
            "la matriz transpuesta HT es:\n",
            "[[[ 1  4]\n",
            "  [ 2  5]\n",
            "  [ 3  6]]\n",
            "\n",
            " [[ 7 10]\n",
            "  [ 8 11]\n",
            "  [ 9 12]]]\n"
          ]
        }
      ]
    },
    {
      "cell_type": "markdown",
      "source": [],
      "metadata": {
        "id": "dUT47VwvIqmK"
      }
    }
  ]
}